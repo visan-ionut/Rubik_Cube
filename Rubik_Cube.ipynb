{
  "nbformat": 4,
  "nbformat_minor": 0,
  "metadata": {
    "colab": {
      "provenance": []
    },
    "kernelspec": {
      "name": "python3",
      "display_name": "Python 3"
    },
    "language_info": {
      "name": "python"
    }
  },
  "cells": [
    {
      "cell_type": "markdown",
      "source": [
        "Pentru compilare este necesar un folder \"pocket_cube\" in care sa se gaseasca: constants.py, cube.py, moves.py."
      ],
      "metadata": {
        "id": "GFe0DPTtgzrh"
      }
    },
    {
      "cell_type": "markdown",
      "source": [
        "Cerinta 1: A* si Bidirectional BFS"
      ],
      "metadata": {
        "id": "f7CmzKmZgiYG"
      }
    },
    {
      "cell_type": "markdown",
      "source": [
        "Mai intai dorim sa verificam cum arata starea cubului (array) dupa aplicarea anumitor miscari (test cases)."
      ],
      "metadata": {
        "id": "Z9m0IXkThBIc"
      }
    },
    {
      "cell_type": "code",
      "execution_count": null,
      "metadata": {
        "colab": {
          "base_uri": "https://localhost:8080/"
        },
        "id": "HQqJacQlgb4J",
        "outputId": "6d8343e9-66b9-4fcc-bbde-80caaa14d6c1"
      },
      "outputs": [
        {
          "output_type": "stream",
          "name": "stdout",
          "text": [
            "[2 5 5 0 1 1 4 2 2 2 3 4 3 5 0 0 4 4 1 0 3 1 3 5]\n"
          ]
        }
      ],
      "source": [
        "from pocket_cube.cube import Cube, Move\n",
        "\n",
        "# Initialize a cube\n",
        "cube = Cube(\"R U' R' F' U\")\n",
        "\n",
        "# Print the final state of the cube\n",
        "print(cube.state)"
      ]
    },
    {
      "cell_type": "markdown",
      "source": [
        "Definim 3 euristici pentru A*, cu eficiente diferite."
      ],
      "metadata": {
        "id": "q2X1s2lfhbWf"
      }
    },
    {
      "cell_type": "code",
      "source": [
        "# Heuristic function h1: Counts the number of misplaced tiles in the current state\n",
        "def h1(state):\n",
        "    goal_state = np.repeat(np.arange(6), 4).reshape((6, 4))\n",
        "    return np.sum(np.array(state).reshape((6, 4)) != goal_state)"
      ],
      "metadata": {
        "id": "rrFJ97eVhhvV"
      },
      "execution_count": null,
      "outputs": []
    },
    {
      "cell_type": "code",
      "source": [
        "# Evaluates the number of misplaced tiles and the number of unsolved faces to estimate the distance\n",
        "# from the goal state in a cube-solving problem.\n",
        "def h1(state):\n",
        "    # Count the number of misplaced tiles\n",
        "    misplaced_tiles = np.sum(np.array(state) != np.repeat(np.arange(6), 4))\n",
        "\n",
        "    # Count the number of solved faces (each face has 4 solved tiles)\n",
        "    solved_faces = np.sum(np.sum(np.array(state).reshape((6, 4)) == np.arange(4), axis=1) == 4)\n",
        "\n",
        "    # Sum of misplaced tiles and unsolved faces\n",
        "    heuristic_value = misplaced_tiles + 0.5 * (6 - solved_faces)\n",
        "\n",
        "    return heuristic_value"
      ],
      "metadata": {
        "id": "Ncd81Zlgh1bl"
      },
      "execution_count": null,
      "outputs": []
    },
    {
      "cell_type": "code",
      "source": [
        "# A more efficient heuristic function that considers positions and orientations to estimate the distance\n",
        "# from the goal state in a cube-solving problem.\n",
        "def h1(state):\n",
        "    state_matrix = np.array(state).reshape((6, 4))\n",
        "    goal_state = np.repeat(np.arange(6), 4).reshape((6, 4))\n",
        "\n",
        "    # Count the number of misplaced tiles\n",
        "    misplaced_tiles = np.sum(state_matrix != goal_state)\n",
        "\n",
        "    # Calculate the Manhattan distance for each cubelet's position\n",
        "    manhattan_positions = np.sum(np.abs(np.indices((6, 4)) - np.indices((6, 4), dtype=int)[:, :, None, None]) * (state_matrix != goal_state), axis=0)\n",
        "\n",
        "    # Calculate the orientation differences for each cubelet\n",
        "    orientation_diff = np.sum(state_matrix != goal_state, axis=1)\n",
        "\n",
        "    # Sum of misplaced tiles, Manhattan distances, and orientation differences\n",
        "    heuristic_value = misplaced_tiles + 0.5 * np.sum(manhattan_positions) + 0.25 * np.sum(orientation_diff)\n",
        "\n",
        "    return (heuristic_value + 1) // 2  # To make the heuristic admissible"
      ],
      "metadata": {
        "id": "ayUQurDWiHQ2"
      },
      "execution_count": null,
      "outputs": []
    },
    {
      "cell_type": "markdown",
      "source": [
        "Vom folosi a doua euristica pentru a avea un raport bun timp-eficienta (sub 10 secunde)."
      ],
      "metadata": {
        "id": "XJpXLKiaiXb6"
      }
    },
    {
      "cell_type": "code",
      "source": [
        "import time\n",
        "from heapq import heappop, heappush\n",
        "from pocket_cube.cube import Cube, Move\n",
        "import numpy as np\n",
        "\n",
        "# Evaluates the number of misplaced tiles and the number of unsolved faces to estimate the distance\n",
        "# from the goal state in a cube-solving problem.\n",
        "def h1(state):\n",
        "    # Count the number of misplaced tiles\n",
        "    misplaced_tiles = np.sum(np.array(state) != np.repeat(np.arange(6), 4))\n",
        "\n",
        "    # Count the number of solved faces (each face has 4 solved tiles)\n",
        "    solved_faces = np.sum(np.sum(np.array(state).reshape((6, 4)) == np.arange(4), axis=1) == 4)\n",
        "\n",
        "    # Sum of misplaced tiles and unsolved faces\n",
        "    heuristic_value = misplaced_tiles + 0.5 * (6 - solved_faces)\n",
        "\n",
        "    return heuristic_value\n",
        "\n",
        "# A* search algorithm\n",
        "def astar(cube, heuristic):\n",
        "    start_time = time.time()\n",
        "\n",
        "    # Convert the start and goal states to tuples for hashing\n",
        "    start_state = tuple(cube.clone_state())\n",
        "    goal_state = tuple(np.repeat(np.arange(6), 4))\n",
        "\n",
        "    # Initialize the frontier with the initial state\n",
        "    frontier = [(heuristic(start_state), start_state, None, None)]\n",
        "\n",
        "    # Dictionary to keep track of discovered states and their properties\n",
        "    discovered = {start_state: (None, 0, None)}\n",
        "\n",
        "    while frontier:\n",
        "        # Pop the state with the lowest cost from the priority queue (frontier)\n",
        "        _, current_state, parent_state, last_move = heappop(frontier)\n",
        "        current_g = discovered[current_state][1]\n",
        "\n",
        "        # Check if the goal state is reached\n",
        "        if current_state == goal_state:\n",
        "            execution_time = time.time() - start_time\n",
        "\n",
        "            # Reconstruct the path from goal to start\n",
        "            path, moves = [], []\n",
        "            while parent_state is not None:\n",
        "                moves.append(last_move.name if last_move else 'Initial')\n",
        "                current_state, _, last_move = discovered[current_state]\n",
        "                parent_state = current_state\n",
        "\n",
        "            moves.append(None)\n",
        "            return execution_time, len(discovered), moves[::-1]\n",
        "\n",
        "        # Explore neighboring states\n",
        "        for move_enum in Move:\n",
        "            move = move_enum.value\n",
        "            new_state = tuple(Cube.move_state(np.array(current_state), move).tolist())\n",
        "            new_g = current_g + 1\n",
        "\n",
        "            # Update the discovered states if a shorter path is found\n",
        "            if new_state not in discovered or new_g < discovered[new_state][1]:\n",
        "                discovered[new_state] = (current_state, new_g, move_enum)\n",
        "                heappush(frontier, (new_g + heuristic(new_state), new_state, current_state, move_enum))\n",
        "\n",
        "    # If no solution is found\n",
        "    return float('inf'), len(discovered), float('inf'), None\n",
        "\n",
        "# Test cases\n",
        "test_cases = [\n",
        "    \"R U' R' F' U\",\n",
        "    \"F' R U R U F' U'\",\n",
        "    \"F U U F' U' R R F' R\",\n",
        "    \"U' R U' F' R F F U' F U U\"\n",
        "]\n",
        "\n",
        "# Run A* search for each test case\n",
        "for case in test_cases:\n",
        "    cube = Cube(case)\n",
        "\n",
        "    # Run A* with the h1 heuristic\n",
        "    execution_time, num_states, moves = astar(cube, h1)\n",
        "\n",
        "    # Print results for each test case\n",
        "    print(f\"Test Case: {case}\")\n",
        "    if execution_time == float('inf'):\n",
        "        print(\"No solution found\")\n",
        "    else:\n",
        "        print(f\"Execution Time: {execution_time:.6f}s\")\n",
        "        print(f\"Number of States Discovered: {num_states}\")\n",
        "        print(f\"Solution Path Length: {len(moves) - 1}\")\n",
        "        print(\"Solution Path:\")\n",
        "        for move in moves[:-1]:\n",
        "            print(f\"Move: {move}\")\n",
        "    print()\n"
      ],
      "metadata": {
        "colab": {
          "base_uri": "https://localhost:8080/"
        },
        "id": "FsjQ_Fr4ifCu",
        "outputId": "78db4ddb-4ac2-4a24-cb42-c2cfaf79c61a"
      },
      "execution_count": null,
      "outputs": [
        {
          "output_type": "stream",
          "name": "stdout",
          "text": [
            "Test Case: R U' R' F' U\n",
            "Execution Time: 0.039052s\n",
            "Number of States Discovered: 612\n",
            "Solution Path Length: 6\n",
            "Solution Path:\n",
            "Move: None\n",
            "Move: Up\n",
            "Move: F\n",
            "Move: R\n",
            "Move: U\n",
            "Move: Rp\n",
            "\n",
            "Test Case: F' R U R U F' U'\n",
            "Execution Time: 0.037921s\n",
            "Number of States Discovered: 360\n",
            "Solution Path Length: 8\n",
            "Solution Path:\n",
            "Move: None\n",
            "Move: Rp\n",
            "Move: Up\n",
            "Move: Fp\n",
            "Move: R\n",
            "Move: F\n",
            "Move: Rp\n",
            "Move: F\n",
            "\n",
            "Test Case: F U U F' U' R R F' R\n",
            "Execution Time: 1.599107s\n",
            "Number of States Discovered: 16734\n",
            "Solution Path Length: 10\n",
            "Solution Path:\n",
            "Move: None\n",
            "Move: Rp\n",
            "Move: F\n",
            "Move: Rp\n",
            "Move: Rp\n",
            "Move: U\n",
            "Move: F\n",
            "Move: U\n",
            "Move: U\n",
            "Move: Fp\n",
            "\n",
            "Test Case: U' R U' F' R F F U' F U U\n",
            "Execution Time: 7.595205s\n",
            "Number of States Discovered: 91464\n",
            "Solution Path Length: 12\n",
            "Solution Path:\n",
            "Move: None\n",
            "Move: R\n",
            "Move: Fp\n",
            "Move: R\n",
            "Move: Fp\n",
            "Move: Fp\n",
            "Move: Up\n",
            "Move: F\n",
            "Move: U\n",
            "Move: U\n",
            "Move: F\n",
            "Move: Up\n",
            "\n"
          ]
        }
      ]
    },
    {
      "cell_type": "markdown",
      "source": [
        "BFS bidirectional:"
      ],
      "metadata": {
        "id": "I5mOZeJTnue2"
      }
    },
    {
      "cell_type": "code",
      "source": [
        "from pocket_cube.cube import Cube, Move\n",
        "import time\n",
        "from collections import deque\n",
        "import numpy as np\n",
        "\n",
        "def bidirectional_bfs(cube):\n",
        "    # Record the start time for measuring execution time\n",
        "    start_time = time.time()\n",
        "\n",
        "    # Get the initial and goal states\n",
        "    start_state = cube.clone_state()\n",
        "    goal_state = np.repeat(np.arange(6), 4)\n",
        "\n",
        "    # Initialize queues for forward and backward BFS\n",
        "    start_queue = deque([(tuple(start_state), [])])\n",
        "    goal_queue = deque([(tuple(goal_state), [])])\n",
        "\n",
        "    # Initialize sets to keep track of visited states for each direction\n",
        "    start_visited = set([tuple(start_state)])\n",
        "    goal_visited = set([tuple(goal_state)])\n",
        "\n",
        "    while start_queue and goal_queue:\n",
        "        # Forward BFS\n",
        "        current_state, path = start_queue.popleft()\n",
        "\n",
        "        for move_enum in Move:\n",
        "            move = move_enum.value\n",
        "            new_state = Cube.move_state(np.array(current_state), move)\n",
        "            new_state_tuple = tuple(new_state)\n",
        "\n",
        "            # Check if the new state has not been visited\n",
        "            if new_state_tuple not in start_visited:\n",
        "                start_queue.append((new_state_tuple, path + [move_enum]))\n",
        "                start_visited.add(new_state_tuple)\n",
        "\n",
        "                # If the new state is also visited in the backward direction, a solution is found\n",
        "                if new_state_tuple in goal_visited:\n",
        "                    execution_time = time.time() - start_time\n",
        "                    path_length = len(path) + len(goal_queue[-1][1])\n",
        "                    return execution_time, len(start_visited) + len(goal_visited), path_length, path + goal_queue[-1][1]\n",
        "\n",
        "        # Backward BFS\n",
        "        current_state, path = goal_queue.popleft()\n",
        "\n",
        "        for move_enum in Move:\n",
        "            move = move_enum.value\n",
        "            new_state = Cube.move_state(np.array(current_state), move)\n",
        "            new_state_tuple = tuple(new_state)\n",
        "\n",
        "            # Check if the new state has not been visited\n",
        "            if new_state_tuple not in goal_visited:\n",
        "                goal_queue.append((new_state_tuple, path + [move_enum]))\n",
        "                goal_visited.add(new_state_tuple)\n",
        "\n",
        "                # If the new state is also visited in the forward direction, a solution is found\n",
        "                if new_state_tuple in start_visited:\n",
        "                    execution_time = time.time() - start_time\n",
        "                    path_length = len(start_queue[-1][1]) + len(path)\n",
        "                    return execution_time, len(start_visited) + len(goal_visited), path_length, start_queue[-1][1] + path\n",
        "\n",
        "    # If no solution is found\n",
        "    return float('inf'), len(start_visited) + len(goal_visited), float('inf'), None\n",
        "\n",
        "# Test cases\n",
        "test_cases = [\n",
        "    \"R U' R' F' U\",\n",
        "    \"F' R U R U F' U'\",\n",
        "    \"F U U F' U' R R F' R\",\n",
        "    \"U' R U' F' R F F U' F U U\"\n",
        "]\n",
        "\n",
        "for case in test_cases:\n",
        "    cube = Cube(case)\n",
        "    execution_time, num_states, path_length, solution_path = bidirectional_bfs(cube)\n",
        "    print(f\"Test Case: {case}\")\n",
        "    print(f\"Execution Time: {execution_time:.6f}s\")\n",
        "    print(f\"Number of States Discovered: {num_states}\")\n",
        "    print(f\"Solution Path Length: {path_length}\")\n",
        "    print(\"Solution Path:\")\n",
        "    print(\" -> \".join([move_enum.name for move_enum in solution_path]))\n",
        "    print()\n"
      ],
      "metadata": {
        "colab": {
          "base_uri": "https://localhost:8080/"
        },
        "id": "jyvPYncWnz2T",
        "outputId": "e93c6d93-f8ba-4368-f704-551c69fdd8c5"
      },
      "execution_count": null,
      "outputs": [
        {
          "output_type": "stream",
          "name": "stdout",
          "text": [
            "Test Case: R U' R' F' U\n",
            "Execution Time: 0.001415s\n",
            "Number of States Discovered: 111\n",
            "Solution Path Length: 5\n",
            "Solution Path:\n",
            "R -> Up -> Fp -> R -> Up\n",
            "\n",
            "Test Case: F' R U R U F' U'\n",
            "Execution Time: 0.018106s\n",
            "Number of States Discovered: 783\n",
            "Solution Path Length: 7\n",
            "Solution Path:\n",
            "U -> F -> Up -> U -> F -> Rp -> Up\n",
            "\n",
            "Test Case: F U U F' U' R R F' R\n",
            "Execution Time: 0.040985s\n",
            "Number of States Discovered: 2720\n",
            "Solution Path Length: 9\n",
            "Solution Path:\n",
            "F -> U -> U -> Fp -> Up -> F -> U -> U -> Fp\n",
            "\n",
            "Test Case: U' R U' F' R F F U' F U U\n",
            "Execution Time: 0.126685s\n",
            "Number of States Discovered: 8304\n",
            "Solution Path Length: 11\n",
            "Solution Path:\n",
            "R -> Fp -> R -> F -> F -> R -> Fp -> R -> F -> R -> Up\n",
            "\n"
          ]
        }
      ]
    },
    {
      "cell_type": "markdown",
      "source": [
        "Grafice:"
      ],
      "metadata": {
        "id": "bnEUDaonoEYB"
      }
    },
    {
      "cell_type": "code",
      "source": [
        "%matplotlib inline\n",
        "import time\n",
        "from heapq import heappop, heappush\n",
        "from pocket_cube.cube import Cube, Move\n",
        "import numpy as np\n",
        "from collections import deque\n",
        "import matplotlib.pyplot as plt\n",
        "\n",
        "# Evaluates the number of misplaced tiles and the number of unsolved faces to estimate the distance\n",
        "# from the goal state in a cube-solving problem.\n",
        "def h1(state):\n",
        "    # Count the number of misplaced tiles\n",
        "    misplaced_tiles = np.sum(np.array(state) != np.repeat(np.arange(6), 4))\n",
        "\n",
        "    # Count the number of solved faces (each face has 4 solved tiles)\n",
        "    solved_faces = np.sum(np.sum(np.array(state).reshape((6, 4)) == np.arange(4), axis=1) == 4)\n",
        "\n",
        "    # Sum of misplaced tiles and unsolved faces\n",
        "    heuristic_value = misplaced_tiles + 0.5 * (6 - solved_faces)\n",
        "\n",
        "    return heuristic_value\n",
        "\n",
        "# A* search algorithm\n",
        "def astar(cube, heuristic):\n",
        "    start_time = time.time()\n",
        "\n",
        "    # Convert the start and goal states to tuples for hashing\n",
        "    start_state = tuple(cube.clone_state())\n",
        "    goal_state = tuple(np.repeat(np.arange(6), 4))\n",
        "\n",
        "    # Initialize the frontier with the initial state\n",
        "    frontier = [(heuristic(start_state), start_state, None, None)]\n",
        "\n",
        "    # Dictionary to keep track of discovered states and their properties\n",
        "    discovered = {start_state: (None, 0, None)}\n",
        "\n",
        "    while frontier:\n",
        "        # Pop the state with the lowest cost from the priority queue (frontier)\n",
        "        _, current_state, parent_state, last_move = heappop(frontier)\n",
        "        current_g = discovered[current_state][1]\n",
        "\n",
        "        # Check if the goal state is reached\n",
        "        if current_state == goal_state:\n",
        "            execution_time = time.time() - start_time\n",
        "\n",
        "            # Reconstruct the path from goal to start\n",
        "            path, moves = [], []\n",
        "            while parent_state is not None:\n",
        "                moves.append(last_move.name if last_move else 'Initial')\n",
        "                current_state, _, last_move = discovered[current_state]\n",
        "                parent_state = current_state\n",
        "\n",
        "            moves.append(None)\n",
        "            return execution_time, len(discovered), moves[::-1]\n",
        "\n",
        "        # Explore neighboring states\n",
        "        for move_enum in Move:\n",
        "            move = move_enum.value\n",
        "            new_state = tuple(Cube.move_state(np.array(current_state), move).tolist())\n",
        "            new_g = current_g + 1\n",
        "\n",
        "            # Update the discovered states if a shorter path is found\n",
        "            if new_state not in discovered or new_g < discovered[new_state][1]:\n",
        "                discovered[new_state] = (current_state, new_g, move_enum)\n",
        "                heappush(frontier, (new_g + heuristic(new_state), new_state, current_state, move_enum))\n",
        "\n",
        "    # If no solution is found\n",
        "    return float('inf'), len(discovered), float('inf'), None\n",
        "\n",
        "def bidirectional_bfs(cube):\n",
        "    # Record the start time for measuring execution time\n",
        "    start_time = time.time()\n",
        "\n",
        "    # Get the initial and goal states\n",
        "    start_state = cube.clone_state()\n",
        "    goal_state = np.repeat(np.arange(6), 4)\n",
        "\n",
        "    # Initialize queues for forward and backward BFS\n",
        "    start_queue = deque([(tuple(start_state), [])])\n",
        "    goal_queue = deque([(tuple(goal_state), [])])\n",
        "\n",
        "    # Initialize sets to keep track of visited states for each direction\n",
        "    start_visited = set([tuple(start_state)])\n",
        "    goal_visited = set([tuple(goal_state)])\n",
        "\n",
        "    while start_queue and goal_queue:\n",
        "        # Forward BFS\n",
        "        current_state, path = start_queue.popleft()\n",
        "\n",
        "        for move_enum in Move:\n",
        "            move = move_enum.value\n",
        "            new_state = Cube.move_state(np.array(current_state), move)\n",
        "            new_state_tuple = tuple(new_state)\n",
        "\n",
        "            # Check if the new state has not been visited\n",
        "            if new_state_tuple not in start_visited:\n",
        "                start_queue.append((new_state_tuple, path + [move_enum]))\n",
        "                start_visited.add(new_state_tuple)\n",
        "\n",
        "                # If the new state is also visited in the backward direction, a solution is found\n",
        "                if new_state_tuple in goal_visited:\n",
        "                    execution_time = time.time() - start_time\n",
        "                    path_length = len(path) + len(goal_queue[-1][1])\n",
        "                    return execution_time, len(start_visited) + len(goal_visited), path_length, path + goal_queue[-1][1]\n",
        "\n",
        "        # Backward BFS\n",
        "        current_state, path = goal_queue.popleft()\n",
        "\n",
        "        for move_enum in Move:\n",
        "            move = move_enum.value\n",
        "            new_state = Cube.move_state(np.array(current_state), move)\n",
        "            new_state_tuple = tuple(new_state)\n",
        "\n",
        "            # Check if the new state has not been visited\n",
        "            if new_state_tuple not in goal_visited:\n",
        "                goal_queue.append((new_state_tuple, path + [move_enum]))\n",
        "                goal_visited.add(new_state_tuple)\n",
        "\n",
        "                # If the new state is also visited in the forward direction, a solution is found\n",
        "                if new_state_tuple in start_visited:\n",
        "                    execution_time = time.time() - start_time\n",
        "                    path_length = len(start_queue[-1][1]) + len(path)\n",
        "                    return execution_time, len(start_visited) + len(goal_visited), path_length, start_queue[-1][1] + path\n",
        "\n",
        "    # If no solution is found\n",
        "    return float('inf'), len(start_visited) + len(goal_visited), float('inf'), None\n",
        "\n",
        "# Test cases\n",
        "test_cases = [\n",
        "    \"R U' R' F' U\",\n",
        "    \"F' R U R U F' U'\",\n",
        "    \"F U U F' U' R R F' R\",\n",
        "    \"U' R U' F' R F F U' F U U\"\n",
        "]\n",
        "\n",
        "test_cases_for_bars = [\n",
        "    \"case1\",\n",
        "    \"case2\",\n",
        "    \"case3\",\n",
        "    \"case4\"\n",
        "]\n",
        "\n",
        "# Lists to store the results for A* and bidirectional BFS\n",
        "a_star_results = []\n",
        "bfs_results = []\n",
        "\n",
        "# Run tests and collect results for A* and bidirectional BFS\n",
        "for case in test_cases:\n",
        "    # A*\n",
        "    cube = Cube(case)\n",
        "    a_star_results.append(astar(cube, h1))\n",
        "\n",
        "    # Bidirectional BFS\n",
        "    cube = Cube(case)\n",
        "    bfs_results.append(bidirectional_bfs(cube))\n",
        "\n",
        "# Extracting specific values for plotting\n",
        "a_star_execution_times = [result[0] for result in a_star_results]\n",
        "a_star_num_states = [result[1] for result in a_star_results]\n",
        "a_star_paths = [result[2] for result in a_star_results]\n",
        "\n",
        "# Extracting specific values for plotting\n",
        "bfs_execution_times = [result[0] for result in bfs_results]\n",
        "bfs_num_states = [result[1] for result in bfs_results]\n",
        "bfs_paths = [result[2] for result in bfs_results]\n",
        "bfs_path_lengths = [path if path is not None else 0 for path in bfs_paths]"
      ],
      "metadata": {
        "id": "l4jcHIYWoHpR"
      },
      "execution_count": null,
      "outputs": []
    },
    {
      "cell_type": "code",
      "source": [
        "# Bar chart for execution time\n",
        "bar_width = 0.35\n",
        "index = np.arange(len(test_cases))\n",
        "plt.bar(index, a_star_execution_times, bar_width, label='A*')\n",
        "plt.bar(index + bar_width, bfs_execution_times, bar_width, label='Bidirectional BFS', alpha=0.7)\n",
        "plt.xlabel('Test Case')\n",
        "plt.ylabel('Execution Time (s)')\n",
        "plt.title('Comparison of Execution Time between A* and Bidirectional BFS')\n",
        "plt.xticks(index + bar_width / 2, test_cases_for_bars)\n",
        "plt.legend()\n",
        "plt.show()"
      ],
      "metadata": {
        "colab": {
          "base_uri": "https://localhost:8080/",
          "height": 472
        },
        "id": "-BJR3aaoofft",
        "outputId": "3c3a3141-a93e-4af7-8745-25a4869bb7e5"
      },
      "execution_count": null,
      "outputs": [
        {
          "output_type": "display_data",
          "data": {
            "text/plain": [
              "<Figure size 640x480 with 1 Axes>"
            ],
            "image/png": "[encoded data removed]"
          },
          "metadata": {}
        }
      ]
    },
    {
      "cell_type": "code",
      "source": [
        "# Bar chart for number of states discovered\n",
        "plt.bar(index, a_star_num_states, bar_width, label='A*')\n",
        "plt.bar(index + bar_width, bfs_num_states, bar_width, label='Bidirectional BFS', alpha=0.7)\n",
        "plt.xlabel('Test Case')\n",
        "plt.ylabel('Number of States Discovered')\n",
        "plt.title('Comparison of Number of States Discovered between A* and Bidirectional BFS')\n",
        "plt.xticks(index + bar_width / 2, test_cases_for_bars)\n",
        "plt.legend()\n",
        "plt.show()"
      ],
      "metadata": {
        "colab": {
          "base_uri": "https://localhost:8080/",
          "height": 472
        },
        "id": "iUByQyxJokpn",
        "outputId": "da5c3f93-7acd-4d18-f80a-d14f225f61ca"
      },
      "execution_count": null,
      "outputs": [
        {
          "output_type": "display_data",
          "data": {
            "text/plain": [
              "<Figure size 640x480 with 1 Axes>"
            ],
            "image/png": "[encoded data removed]"
          },
          "metadata": {}
        }
      ]
    },
    {
      "cell_type": "code",
      "source": [
        "# Extracting specific values for plotting\n",
        "a_star_path_lengths = [len(result[2]) if result[2] is not None else 0 for result in a_star_results]\n",
        "bfs_path_lengths = [result[2] if result[2] is not None else 0 for result in bfs_results]\n",
        "\n",
        "# Bar chart for path length\n",
        "plt.bar(index, a_star_path_lengths, bar_width, label='A*')\n",
        "plt.bar(index + bar_width, bfs_path_lengths, bar_width, label='Bidirectional BFS', alpha=0.7)\n",
        "plt.xlabel('Test Case')\n",
        "plt.ylabel('Path Length')\n",
        "plt.title('Comparison of Path Length between A* and Bidirectional BFS')\n",
        "plt.xticks(index + bar_width / 2, test_cases_for_bars)\n",
        "plt.legend()\n",
        "plt.show()\n"
      ],
      "metadata": {
        "colab": {
          "base_uri": "https://localhost:8080/",
          "height": 472
        },
        "id": "1BmAQ1FvpaZi",
        "outputId": "d67ad2ef-04a1-4cae-a9f9-66941a533223"
      },
      "execution_count": null,
      "outputs": [
        {
          "output_type": "display_data",
          "data": {
            "text/plain": [
              "<Figure size 640x480 with 1 Axes>"
            ],
            "image/png": "[encoded data removed]"
          },
          "metadata": {}
        }
      ]
    },
    {
      "cell_type": "markdown",
      "source": [
        "Cerinta 2: Monte Carlo Tree Search"
      ],
      "metadata": {
        "id": "oxaqO3Sls0RI"
      }
    },
    {
      "cell_type": "code",
      "source": [
        "# calculates the number of misplaced tiles in a cube-solving problem.\n",
        "# It ignores the count of solved faces, providing a non-admissible heuristic.\n",
        "def h2(state):\n",
        "    # Count the number of misplaced tiles (same as h1)\n",
        "    misplaced_tiles = np.sum(np.array(state) != np.repeat(np.arange(6), 4))\n",
        "\n",
        "    # Ignore the solved faces count (set to 0)\n",
        "    heuristic_value = misplaced_tiles\n",
        "\n",
        "    return heuristic_value"
      ],
      "metadata": {
        "id": "fiKBZ1MYsz0u"
      },
      "execution_count": null,
      "outputs": []
    },
    {
      "cell_type": "markdown",
      "source": [
        "Cerinta 3: Pattern database\n"
      ],
      "metadata": {
        "id": "4KE3jaiPtBi9"
      }
    },
    {
      "cell_type": "code",
      "source": [
        "from pocket_cube.cube import Cube, Move\n",
        "from collections import deque\n",
        "import numpy as np\n",
        "import time\n",
        "\n",
        "def build_pattern_database(max_distance):\n",
        "    # Record the start time for measuring construction time\n",
        "    start_time = time.time()\n",
        "\n",
        "    # Define the goal state (solved state)\n",
        "    goal_state = np.repeat(np.arange(6), 4)\n",
        "    goal_state_tuple = tuple(goal_state)\n",
        "\n",
        "    # Initialize the pattern database and the queue for BFS\n",
        "    pattern_database = {}\n",
        "    queue = deque([(goal_state_tuple, 0)])\n",
        "\n",
        "    # Perform BFS to construct the pattern database\n",
        "    while queue:\n",
        "        current_state, distance = queue.popleft()\n",
        "\n",
        "        # Record the distance for the current state in the pattern database\n",
        "        pattern_database[current_state] = distance\n",
        "\n",
        "        # If the desired maximum distance is reached, skip further exploration\n",
        "        if distance >= max_distance:\n",
        "            continue\n",
        "\n",
        "        # Explore neighboring states by applying all possible moves\n",
        "        for move_enum in Move:\n",
        "            move = move_enum.value\n",
        "            new_state = Cube.move_state(np.array(current_state), move)\n",
        "            new_state_tuple = tuple(new_state)\n",
        "\n",
        "            # If the new state is not in the pattern database, add it to the queue\n",
        "            if new_state_tuple not in pattern_database:\n",
        "                queue.append((new_state_tuple, distance + 1))\n",
        "                pattern_database[new_state_tuple] = distance + 1\n",
        "\n",
        "    # Calculate and print the construction time and the number of states in the pattern database\n",
        "    construction_time = time.time() - start_time\n",
        "    print(f\"Pattern Database Construction Time: {construction_time:.6f}s\")\n",
        "    print(f\"Number of States in the Pattern Database: {len(pattern_database)}\")\n",
        "\n",
        "    # Print the last 5 states and their distances for verification\n",
        "    last_states = list(pattern_database.keys())[-5:]\n",
        "    print(\"Last 5 States and Distances:\")\n",
        "    for state in last_states:\n",
        "        distance = pattern_database[state]\n",
        "        print(f\"State: {state}, Distance to Goal: {distance}\")\n",
        "\n",
        "# Set your desired maximum distance\n",
        "max_distance = 7\n",
        "\n",
        "# Build pattern database and print the time\n",
        "build_pattern_database(max_distance)"
      ],
      "metadata": {
        "colab": {
          "base_uri": "https://localhost:8080/"
        },
        "id": "3rtX4uPvtC9O",
        "outputId": "06149870-4853-4cc4-b590-2349ca10a281"
      },
      "execution_count": null,
      "outputs": [
        {
          "output_type": "stream",
          "name": "stdout",
          "text": [
            "Pattern Database Construction Time: 0.939191s\n",
            "Number of States in the Pattern Database: 44971\n",
            "Last 5 States and Distances:\n",
            "State: (0, 0, 0, 1, 3, 1, 2, 4, 2, 2, 0, 3, 3, 1, 5, 1, 4, 4, 5, 5, 4, 5, 2, 3), Distance to Goal: 7\n",
            "State: (0, 4, 5, 1, 1, 4, 0, 5, 3, 2, 3, 2, 3, 1, 5, 3, 4, 0, 5, 2, 2, 4, 1, 0), Distance to Goal: 7\n",
            "State: (0, 0, 0, 2, 4, 2, 1, 3, 1, 2, 0, 3, 3, 1, 5, 1, 4, 5, 5, 3, 4, 4, 2, 5), Distance to Goal: 7\n",
            "State: (0, 2, 5, 4, 5, 1, 1, 4, 2, 2, 0, 5, 3, 1, 3, 2, 4, 4, 5, 3, 1, 0, 0, 3), Distance to Goal: 7\n",
            "State: (0, 0, 5, 2, 4, 1, 1, 5, 4, 2, 2, 5, 3, 1, 3, 2, 4, 0, 5, 3, 1, 4, 0, 3), Distance to Goal: 7\n"
          ]
        }
      ]
    },
    {
      "cell_type": "code",
      "source": [
        "def h3(state, pattern_database, h1):\n",
        "    # Convert the state to a tuple for hashing\n",
        "    state_tuple = tuple(state)\n",
        "\n",
        "    # Check if the state is in the pattern database\n",
        "    if state_tuple in pattern_database:\n",
        "        # Return the exact cost of the state from the pattern database\n",
        "        return pattern_database[state_tuple]\n",
        "    else:\n",
        "        # Return the value of the admissible heuristic h1 for states not in the pattern database\n",
        "        return h1(state)"
      ],
      "metadata": {
        "id": "wk7KKOmntP3N"
      },
      "execution_count": null,
      "outputs": []
    }
  ]
}